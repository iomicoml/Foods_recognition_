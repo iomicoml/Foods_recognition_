{
  "nbformat": 4,
  "nbformat_minor": 0,
  "metadata": {
    "colab": {
      "name": "Create_one_tfrecord_and_train_Faster_RCNN.ipynb",
      "provenance": [],
      "collapsed_sections": [],
      "toc_visible": true,
      "authorship_tag": "ABX9TyONndwoP6TuJZ83r52wm/sk",
      "include_colab_link": true
    },
    "kernelspec": {
      "name": "python3",
      "display_name": "Python 3"
    },
    "accelerator": "GPU"
  },
  "cells": [
    {
      "cell_type": "markdown",
      "metadata": {
        "id": "view-in-github",
        "colab_type": "text"
      },
      "source": [
        "<a href=\"https://colab.research.google.com/github/iomicoml/Foods_recognition_/blob/main/Create_one_tfrecord_and_train_Faster_RCNN.ipynb\" target=\"_parent\"><img src=\"https://colab.research.google.com/assets/colab-badge.svg\" alt=\"Open In Colab\"/></a>"
      ]
    },
    {
      "cell_type": "code",
      "metadata": {
        "id": "CYqyxMSWT2kr",
        "outputId": "07a1eab1-7f76-482c-e7d9-8b2873658e3d",
        "colab": {
          "base_uri": "https://localhost:8080/"
        }
      },
      "source": [
        "\n",
        "from google.colab import drive\n",
        "drive.mount('/content/drive')"
      ],
      "execution_count": null,
      "outputs": [
        {
          "output_type": "stream",
          "text": [
            "Mounted at /content/drive\n"
          ],
          "name": "stdout"
        }
      ]
    },
    {
      "cell_type": "markdown",
      "metadata": {
        "id": "lF7heXQsLF8h"
      },
      "source": [
        "# **Merge tfrecords**"
      ]
    },
    {
      "cell_type": "code",
      "metadata": {
        "id": "I21Flf_AVSNf"
      },
      "source": [
        "# %cd /content/drive/My Drive/Food_Recognition/TFRecords\n",
        "# !ls"
      ],
      "execution_count": null,
      "outputs": []
    },
    {
      "cell_type": "code",
      "metadata": {
        "id": "7qvCRdg-VSY2"
      },
      "source": [
        "# import os\n",
        "# import tensorflow as tf\n",
        "\n",
        "# dir_path = os.getcwd()\n",
        "\n",
        "# list_val = []\n",
        "\n",
        "# for filename in os.listdir(dir_path):\n",
        "#   if filename.startswith(\"coco_test\"):\n",
        "#     list_val.append(filename)\n",
        "\n",
        "# list_of_tfrecord_files = list_val\n",
        "# dataset = tf.data.TFRecordDataset(list_of_tfrecord_files)\n",
        "\n",
        "# filename = 'train.tfrecord'\n",
        "# writer = tf.data.experimental.TFRecordWriter(filename)\n",
        "# writer.write(dataset)\n"
      ],
      "execution_count": null,
      "outputs": []
    },
    {
      "cell_type": "markdown",
      "metadata": {
        "id": "H6IB-_2QLS6m"
      },
      "source": [
        "# **Training**"
      ]
    },
    {
      "cell_type": "code",
      "metadata": {
        "id": "4nb8jhRyVQKZ"
      },
      "source": [
        "!pip install tensorflow_gpu==1.15\n",
        "\n",
        "!apt-get install protobuf-compiler python-pil python-lxml python-tk\n",
        "!pip install Cython tf_slim\n",
        "!pip install -q pycocotools\n",
        "!pip install -q Cython contextlib2 pillow lxml matplotlib"
      ],
      "execution_count": null,
      "outputs": []
    },
    {
      "cell_type": "code",
      "metadata": {
        "id": "Qda6uUlhUHRE"
      },
      "source": [
        "import os\n",
        "import sys"
      ],
      "execution_count": null,
      "outputs": []
    },
    {
      "cell_type": "code",
      "metadata": {
        "id": "8WXgL3IDaffC"
      },
      "source": [
        ""
      ],
      "execution_count": null,
      "outputs": []
    },
    {
      "cell_type": "code",
      "metadata": {
        "id": "H1_HgH5UUHnm",
        "outputId": "5df7b4fa-9144-4e99-8b05-2b172247cf65",
        "colab": {
          "base_uri": "https://localhost:8080/"
        }
      },
      "source": [
        "from google.colab import drive\n",
        "drive.mount('/content/drive')\n",
        "\n",
        "\n",
        "%cd drive/My\\ Drive/Food_Recognition/Train/models/research/"
      ],
      "execution_count": null,
      "outputs": [
        {
          "output_type": "stream",
          "text": [
            "Drive already mounted at /content/drive; to attempt to forcibly remount, call drive.mount(\"/content/drive\", force_remount=True).\n",
            "/content/drive/My Drive/Food_Recognition/Train/models/research\n"
          ],
          "name": "stdout"
        }
      ]
    },
    {
      "cell_type": "code",
      "metadata": {
        "id": "vW6ghMiLUHz3",
        "outputId": "71b2bd9c-fb73-445a-f18d-26b6fb4c282f",
        "colab": {
          "base_uri": "https://localhost:8080/"
        }
      },
      "source": [
        "%set_env PYTHONPATH=/content/models/research:/content/models/research/slim"
      ],
      "execution_count": null,
      "outputs": [
        {
          "output_type": "stream",
          "text": [
            "env: PYTHONPATH=/content/models/research:/content/models/research/slim\n"
          ],
          "name": "stdout"
        }
      ]
    },
    {
      "cell_type": "code",
      "metadata": {
        "id": "ZwLdFjjRUH92"
      },
      "source": [
        "# os.environ['PATH'] += \":/content/drive/My Drive/Food_Recognition/Train/models/research/slim\"\n",
        "# os.environ['PATH'] += \":/content/drive/My Drive/Food_Recognition/Train/models\"\n",
        "# os.environ['PATH'] += \":/content/drive/My Drive/Food_Recognition/Train/models/research\"\n",
        "\n",
        "os.environ['PYTHONPATH'] += \"/content/drive/My Drive/Food_Recognition/Train/models/research/slim, \"\n",
        "os.environ['PYTHONPATH'] += \"/content/drive/My Drive/Food_Recognition/Train/models, \"\n",
        "os.environ['PYTHONPATH'] += \"/content/drive/My Drive/Food_Recognition/Train/models/research, \"\n",
        "\n",
        "sys.path.append(\"/content/drive/My Drive/Food_Recognition/Train/models/research/slim\")\n",
        "sys.path.append(\"/content/drive/My Drive/Food_Recognition/Train/models\")\n",
        "sys.path.append(\"/content/drive/My Drive/Food_Recognition/Train/models/research\")"
      ],
      "execution_count": null,
      "outputs": []
    },
    {
      "cell_type": "code",
      "metadata": {
        "id": "xCDHoqhmUIVZ",
        "outputId": "d3ca56b7-6234-4ddf-f23e-9f089d08dafa",
        "colab": {
          "base_uri": "https://localhost:8080/"
        }
      },
      "source": [
        "%cd /content/drive/My Drive/Food_Recognition/Train/models/research/\n",
        "\n",
        "%set_env PYTHONPATH=:/content/drive/My Drive/Food_Recognition/Train/models/research/slim\n",
        "import os\n",
        "os.environ['PYTHONPATH'] += \":/content/drive/My Drive/Food_Recognition/Train/models\"\n",
        "\n",
        "import sys\n",
        "\n",
        "sys.path.append(\":/content/drive/My Drive/Food_Recognition/Train/models\")"
      ],
      "execution_count": null,
      "outputs": [
        {
          "output_type": "stream",
          "text": [
            "/content/drive/My Drive/Food_Recognition/Train/models/research\n",
            "env: PYTHONPATH=:/content/drive/My Drive/Food_Recognition/Train/models/research/slim\n"
          ],
          "name": "stdout"
        }
      ]
    },
    {
      "cell_type": "code",
      "metadata": {
        "id": "MKttn88zUIeW"
      },
      "source": [
        "os.environ['PYTHONPATH'] += \":/content/drive/My Drive/Food_Recognition/Train/models/research/object_detection\"\n",
        "sys.path.append(\":/content/drive/My Drive/Food_Recognition/Train/models/research/object_detection\")\n"
      ],
      "execution_count": null,
      "outputs": []
    },
    {
      "cell_type": "code",
      "metadata": {
        "id": "usW6XmQpMfLU",
        "outputId": "8c753b72-efb5-45cf-93ea-376321d15aa3",
        "colab": {
          "base_uri": "https://localhost:8080/"
        }
      },
      "source": [
        "!pip uninstall tensorflow-estimator -y"
      ],
      "execution_count": null,
      "outputs": [
        {
          "output_type": "stream",
          "text": [
            "Uninstalling tensorflow-estimator-1.15.1:\n",
            "  Successfully uninstalled tensorflow-estimator-1.15.1\n"
          ],
          "name": "stdout"
        }
      ]
    },
    {
      "cell_type": "code",
      "metadata": {
        "id": "UVhV5kmkUIue"
      },
      "source": [
        "!pip install tensorflow-estimator==1.15\n",
        "\n",
        "# !echo $PATH\n",
        "\n",
        "!python object_detection/train.py --logtostderr --train_dir=object_detection/training/ --pipeline_config_path=object_detection/training/faster_rcnn_inception_v2_coco.config\n"
      ],
      "execution_count": null,
      "outputs": []
    },
    {
      "cell_type": "code",
      "metadata": {
        "id": "PNn4sirrUI59",
        "outputId": "7466c91d-9510-490d-efd4-181bab234f31",
        "colab": {
          "base_uri": "https://localhost:8080/"
        }
      },
      "source": [
        "!ls\n"
      ],
      "execution_count": null,
      "outputs": [
        {
          "output_type": "stream",
          "text": [
            "a3c_blogpost\t    deep_speech\t\t   object_detection.egg-info\n",
            "adversarial_text    delf\t\t   pcl_rl\n",
            "attention_ocr\t    dist\t\t   README.md\n",
            "audioset\t    efficient-hrl\t   rebar\n",
            "autoaugment\t    lfads\t\t   sequence_projection\n",
            "build\t\t    lstm_object_detection  setup.py\n",
            "cognitive_planning  marco\t\t   slim\n",
            "cvt_text\t    nst_blogpost\t   training\n",
            "deeplab\t\t    object_detection\t   vid2depth\n"
          ],
          "name": "stdout"
        }
      ]
    },
    {
      "cell_type": "code",
      "metadata": {
        "id": "uAhoxtV4UJFe"
      },
      "source": [
        "!python object_detection/export_inference_graph.py --input_type image_tensor --pipeline_config_path object_detection/training/faster_rcnn_inception_v2_coco.config --trained_checkpoint_prefix  object_detection/training/model.ckpt-6788 --output_directory object_detection/inference_graph\n"
      ],
      "execution_count": null,
      "outputs": []
    }
  ]
}
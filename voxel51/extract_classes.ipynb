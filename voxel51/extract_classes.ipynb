{
 "cells": [
  {
   "cell_type": "code",
   "execution_count": 1,
   "metadata": {},
   "outputs": [],
   "source": [
    "import fiftyone as fo\n",
    "from fiftyone import ViewField as F\n",
    "import glob\n",
    "from datetime import date"
   ]
  },
  {
   "cell_type": "markdown",
   "metadata": {},
   "source": [
    "### Load dataset"
   ]
  },
  {
   "cell_type": "code",
   "execution_count": 2,
   "metadata": {},
   "outputs": [
    {
     "data": {
      "text/plain": [
       "Name:           D2S\n",
       "Media type:     image\n",
       "Num samples:    24098\n",
       "Persistent:     True\n",
       "Info:           {}\n",
       "Tags:           ['aug', 'byte', 'test', 'train', 'val', 'val_clutter', 'val_wo_occ', 'water']\n",
       "Sample fields:\n",
       "    filepath:     fiftyone.core.fields.StringField\n",
       "    tags:         fiftyone.core.fields.ListField(fiftyone.core.fields.StringField)\n",
       "    metadata:     fiftyone.core.fields.EmbeddedDocumentField(fiftyone.core.metadata.Metadata)\n",
       "    ground_truth: fiftyone.core.fields.EmbeddedDocumentField(fiftyone.core.labels.Detections)\n",
       "    prediction:   fiftyone.core.fields.EmbeddedDocumentField(fiftyone.core.labels.Detections)"
      ]
     },
     "execution_count": 2,
     "metadata": {},
     "output_type": "execute_result"
    }
   ],
   "source": [
    "# Load dataset\n",
    "ds = fo.load_dataset('D2S')\n",
    "ds"
   ]
  },
  {
   "cell_type": "markdown",
   "metadata": {},
   "source": [
    "### Set categories"
   ]
  },
  {
   "cell_type": "code",
   "execution_count": 3,
   "metadata": {},
   "outputs": [],
   "source": [
    "CATEGORIES = ['banana_single', 'banana_bundle', 'coca_cola_05', 'orange_single', 'vine_tomatoes']"
   ]
  },
  {
   "cell_type": "markdown",
   "metadata": {},
   "source": [
    "### Filter dataset"
   ]
  },
  {
   "cell_type": "code",
   "execution_count": 4,
   "metadata": {},
   "outputs": [
    {
     "data": {
      "text/plain": [
       "Dataset:        D2S\n",
       "Media type:     image\n",
       "Num samples:    1110\n",
       "Tags:           ['byte', 'test', 'train', 'val']\n",
       "Sample fields:\n",
       "    filepath:     fiftyone.core.fields.StringField\n",
       "    tags:         fiftyone.core.fields.ListField(fiftyone.core.fields.StringField)\n",
       "    metadata:     fiftyone.core.fields.EmbeddedDocumentField(fiftyone.core.metadata.Metadata)\n",
       "    ground_truth: fiftyone.core.fields.EmbeddedDocumentField(fiftyone.core.labels.Detections)\n",
       "    prediction:   fiftyone.core.fields.EmbeddedDocumentField(fiftyone.core.labels.Detections)\n",
       "Pipeline stages:\n",
       "    1. FilterLabels(field='ground_truth', filter={'$in': ['$$this.label', [...]]}, only_matches=True)\n",
       "    2. MatchTags(tags=['train', 'val', 'test'])"
      ]
     },
     "execution_count": 4,
     "metadata": {},
     "output_type": "execute_result"
    }
   ],
   "source": [
    "filtered = ds.filter_labels(\n",
    "    \"ground_truth\",\n",
    "    F(\"label\").is_in(CATEGORIES),\n",
    "    only_matches=True,\n",
    ").match_tags(['train', 'val', 'test'])\n",
    "filtered"
   ]
  },
  {
   "cell_type": "markdown",
   "metadata": {},
   "source": [
    "### Export in JSON "
   ]
  },
  {
   "cell_type": "code",
   "execution_count": 21,
   "metadata": {},
   "outputs": [
    {
     "name": "stdout",
     "output_type": "stream",
     "text": [
      "Directory 'G:\\My Drive\\Food_Recognition\\Datasets\\YOLO_dataset2' already exists; export will be merged with existing files\n",
      "   8% |/--------|  5/60 [4.6s elapsed, 50.1s remaining, 1.3 samples/s]   \n"
     ]
    },
    {
     "ename": "KeyboardInterrupt",
     "evalue": "",
     "output_type": "error",
     "traceback": [
      "\u001b[1;31m---------------------------------------------------------------------------\u001b[0m",
      "\u001b[1;31mKeyboardInterrupt\u001b[0m                         Traceback (most recent call last)",
      "\u001b[1;32m<ipython-input-21-752fc2e339a2>\u001b[0m in \u001b[0;36m<module>\u001b[1;34m\u001b[0m\n\u001b[0;32m      1\u001b[0m \u001b[0mEXPORT_DIR\u001b[0m \u001b[1;33m=\u001b[0m \u001b[1;34mr'G:\\My Drive\\Food_Recognition\\Datasets\\YOLO_dataset2'\u001b[0m\u001b[1;33m\u001b[0m\u001b[1;33m\u001b[0m\u001b[0m\n\u001b[0;32m      2\u001b[0m \u001b[0mDATASET_TYPE\u001b[0m \u001b[1;33m=\u001b[0m \u001b[0mfo\u001b[0m\u001b[1;33m.\u001b[0m\u001b[0mtypes\u001b[0m\u001b[1;33m.\u001b[0m\u001b[0mCOCODetectionDataset\u001b[0m\u001b[1;33m\u001b[0m\u001b[1;33m\u001b[0m\u001b[0m\n\u001b[1;32m----> 3\u001b[1;33m \u001b[0mfiltered\u001b[0m\u001b[1;33m.\u001b[0m\u001b[0mexport\u001b[0m\u001b[1;33m(\u001b[0m\u001b[0mexport_dir\u001b[0m\u001b[1;33m=\u001b[0m\u001b[0mEXPORT_DIR\u001b[0m\u001b[1;33m,\u001b[0m \u001b[0mdataset_type\u001b[0m\u001b[1;33m=\u001b[0m\u001b[0mDATASET_TYPE\u001b[0m\u001b[1;33m)\u001b[0m\u001b[1;33m\u001b[0m\u001b[1;33m\u001b[0m\u001b[0m\n\u001b[0m",
      "\u001b[1;32m~\\Documents\\Anaconda\\envs\\byte_smart_kiosk\\lib\\site-packages\\fiftyone\\core\\collections.py\u001b[0m in \u001b[0;36mexport\u001b[1;34m(self, export_dir, dataset_type, dataset_exporter, label_field, label_prefix, labels_dict, frame_labels_field, frame_labels_prefix, frame_labels_dict, overwrite, **kwargs)\u001b[0m\n\u001b[0;32m   1755\u001b[0m             \u001b[0mdataset_exporter\u001b[0m\u001b[1;33m=\u001b[0m\u001b[0mdataset_exporter\u001b[0m\u001b[1;33m,\u001b[0m\u001b[1;33m\u001b[0m\u001b[1;33m\u001b[0m\u001b[0m\n\u001b[0;32m   1756\u001b[0m             \u001b[0mlabel_field_or_dict\u001b[0m\u001b[1;33m=\u001b[0m\u001b[0mlabel_field_or_dict\u001b[0m\u001b[1;33m,\u001b[0m\u001b[1;33m\u001b[0m\u001b[1;33m\u001b[0m\u001b[0m\n\u001b[1;32m-> 1757\u001b[1;33m             \u001b[0mframe_labels_field_or_dict\u001b[0m\u001b[1;33m=\u001b[0m\u001b[0mframe_labels_field_or_dict\u001b[0m\u001b[1;33m,\u001b[0m\u001b[1;33m\u001b[0m\u001b[1;33m\u001b[0m\u001b[0m\n\u001b[0m\u001b[0;32m   1758\u001b[0m         )\n\u001b[0;32m   1759\u001b[0m \u001b[1;33m\u001b[0m\u001b[0m\n",
      "\u001b[1;32m~\\Documents\\Anaconda\\envs\\byte_smart_kiosk\\lib\\site-packages\\fiftyone\\utils\\data\\exporters.py\u001b[0m in \u001b[0;36mexport_samples\u001b[1;34m(samples, export_dir, dataset_type, dataset_exporter, label_field_or_dict, frame_labels_field_or_dict, num_samples, **kwargs)\u001b[0m\n\u001b[0;32m    106\u001b[0m         \u001b[0msample_parser\u001b[0m\u001b[1;33m,\u001b[0m\u001b[1;33m\u001b[0m\u001b[1;33m\u001b[0m\u001b[0m\n\u001b[0;32m    107\u001b[0m         \u001b[0mdataset_exporter\u001b[0m\u001b[1;33m=\u001b[0m\u001b[0mdataset_exporter\u001b[0m\u001b[1;33m,\u001b[0m\u001b[1;33m\u001b[0m\u001b[1;33m\u001b[0m\u001b[0m\n\u001b[1;32m--> 108\u001b[1;33m         \u001b[0mnum_samples\u001b[0m\u001b[1;33m=\u001b[0m\u001b[0mnum_samples\u001b[0m\u001b[1;33m,\u001b[0m\u001b[1;33m\u001b[0m\u001b[1;33m\u001b[0m\u001b[0m\n\u001b[0m\u001b[0;32m    109\u001b[0m     )\n\u001b[0;32m    110\u001b[0m \u001b[1;33m\u001b[0m\u001b[0m\n",
      "\u001b[1;32m~\\Documents\\Anaconda\\envs\\byte_smart_kiosk\\lib\\site-packages\\fiftyone\\utils\\data\\exporters.py\u001b[0m in \u001b[0;36mwrite_dataset\u001b[1;34m(samples, sample_parser, dataset_dir, dataset_type, dataset_exporter, num_samples, **kwargs)\u001b[0m\n\u001b[0;32m    157\u001b[0m     ):\n\u001b[0;32m    158\u001b[0m         _write_image_dataset(\n\u001b[1;32m--> 159\u001b[1;33m             \u001b[0mdataset_exporter\u001b[0m\u001b[1;33m,\u001b[0m \u001b[0msamples\u001b[0m\u001b[1;33m,\u001b[0m \u001b[0msample_parser\u001b[0m\u001b[1;33m,\u001b[0m \u001b[0mnum_samples\u001b[0m\u001b[1;33m\u001b[0m\u001b[1;33m\u001b[0m\u001b[0m\n\u001b[0m\u001b[0;32m    160\u001b[0m         )\n\u001b[0;32m    161\u001b[0m     elif isinstance(\n",
      "\u001b[1;32m~\\Documents\\Anaconda\\envs\\byte_smart_kiosk\\lib\\site-packages\\fiftyone\\utils\\data\\exporters.py\u001b[0m in \u001b[0;36m_write_image_dataset\u001b[1;34m(dataset_exporter, samples, sample_parser, num_samples)\u001b[0m\n\u001b[0;32m    234\u001b[0m                 \u001b[1;32mif\u001b[0m \u001b[0mdataset_exporter\u001b[0m\u001b[1;33m.\u001b[0m\u001b[0mrequires_image_metadata\u001b[0m\u001b[1;33m:\u001b[0m\u001b[1;33m\u001b[0m\u001b[1;33m\u001b[0m\u001b[0m\n\u001b[0;32m    235\u001b[0m                     \u001b[1;32mif\u001b[0m \u001b[0msample_parser\u001b[0m\u001b[1;33m.\u001b[0m\u001b[0mhas_image_metadata\u001b[0m\u001b[1;33m:\u001b[0m\u001b[1;33m\u001b[0m\u001b[1;33m\u001b[0m\u001b[0m\n\u001b[1;32m--> 236\u001b[1;33m                         \u001b[0mmetadata\u001b[0m \u001b[1;33m=\u001b[0m \u001b[0msample_parser\u001b[0m\u001b[1;33m.\u001b[0m\u001b[0mget_image_metadata\u001b[0m\u001b[1;33m(\u001b[0m\u001b[1;33m)\u001b[0m\u001b[1;33m\u001b[0m\u001b[1;33m\u001b[0m\u001b[0m\n\u001b[0m\u001b[0;32m    237\u001b[0m                     \u001b[1;32melse\u001b[0m\u001b[1;33m:\u001b[0m\u001b[1;33m\u001b[0m\u001b[1;33m\u001b[0m\u001b[0m\n\u001b[0;32m    238\u001b[0m                         \u001b[0mmetadata\u001b[0m \u001b[1;33m=\u001b[0m \u001b[1;32mNone\u001b[0m\u001b[1;33m\u001b[0m\u001b[1;33m\u001b[0m\u001b[0m\n",
      "\u001b[1;32m~\\Documents\\Anaconda\\envs\\byte_smart_kiosk\\lib\\site-packages\\fiftyone\\utils\\data\\parsers.py\u001b[0m in \u001b[0;36mget_image_metadata\u001b[1;34m(self)\u001b[0m\n\u001b[0;32m   1344\u001b[0m         \u001b[1;32mif\u001b[0m \u001b[0mmetadata\u001b[0m \u001b[1;32mis\u001b[0m \u001b[1;32mNone\u001b[0m \u001b[1;32mand\u001b[0m \u001b[0mself\u001b[0m\u001b[1;33m.\u001b[0m\u001b[0mcompute_metadata\u001b[0m\u001b[1;33m:\u001b[0m\u001b[1;33m\u001b[0m\u001b[1;33m\u001b[0m\u001b[0m\n\u001b[0;32m   1345\u001b[0m             metadata = fom.ImageMetadata.build_for(\n\u001b[1;32m-> 1346\u001b[1;33m                 \u001b[0mself\u001b[0m\u001b[1;33m.\u001b[0m\u001b[0mcurrent_sample\u001b[0m\u001b[1;33m.\u001b[0m\u001b[0mfilepath\u001b[0m\u001b[1;33m\u001b[0m\u001b[1;33m\u001b[0m\u001b[0m\n\u001b[0m\u001b[0;32m   1347\u001b[0m             )\n\u001b[0;32m   1348\u001b[0m \u001b[1;33m\u001b[0m\u001b[0m\n",
      "\u001b[1;32m~\\Documents\\Anaconda\\envs\\byte_smart_kiosk\\lib\\site-packages\\fiftyone\\core\\metadata.py\u001b[0m in \u001b[0;36mbuild_for\u001b[1;34m(cls, image_or_path)\u001b[0m\n\u001b[0;32m     72\u001b[0m         \u001b[1;32mif\u001b[0m \u001b[0metau\u001b[0m\u001b[1;33m.\u001b[0m\u001b[0mis_str\u001b[0m\u001b[1;33m(\u001b[0m\u001b[0mimage_or_path\u001b[0m\u001b[1;33m)\u001b[0m\u001b[1;33m:\u001b[0m\u001b[1;33m\u001b[0m\u001b[1;33m\u001b[0m\u001b[0m\n\u001b[0;32m     73\u001b[0m             \u001b[1;31m# From image on disk\u001b[0m\u001b[1;33m\u001b[0m\u001b[1;33m\u001b[0m\u001b[1;33m\u001b[0m\u001b[0m\n\u001b[1;32m---> 74\u001b[1;33m             \u001b[0mm\u001b[0m \u001b[1;33m=\u001b[0m \u001b[0metai\u001b[0m\u001b[1;33m.\u001b[0m\u001b[0mImageMetadata\u001b[0m\u001b[1;33m.\u001b[0m\u001b[0mbuild_for\u001b[0m\u001b[1;33m(\u001b[0m\u001b[0mimage_or_path\u001b[0m\u001b[1;33m)\u001b[0m\u001b[1;33m\u001b[0m\u001b[1;33m\u001b[0m\u001b[0m\n\u001b[0m\u001b[0;32m     75\u001b[0m             return cls(\n\u001b[0;32m     76\u001b[0m                 \u001b[0msize_bytes\u001b[0m\u001b[1;33m=\u001b[0m\u001b[0mm\u001b[0m\u001b[1;33m.\u001b[0m\u001b[0msize_bytes\u001b[0m\u001b[1;33m,\u001b[0m\u001b[1;33m\u001b[0m\u001b[1;33m\u001b[0m\u001b[0m\n",
      "\u001b[1;32m~\\Documents\\Anaconda\\envs\\byte_smart_kiosk\\lib\\site-packages\\eta\\core\\image.py\u001b[0m in \u001b[0;36mbuild_for\u001b[1;34m(cls, filepath)\u001b[0m\n\u001b[0;32m    549\u001b[0m             \u001b[0man\u001b[0m \u001b[0mImageMetadata\u001b[0m \u001b[0minstance\u001b[0m\u001b[1;33m\u001b[0m\u001b[1;33m\u001b[0m\u001b[0m\n\u001b[0;32m    550\u001b[0m         \"\"\"\n\u001b[1;32m--> 551\u001b[1;33m         \u001b[0mimg\u001b[0m \u001b[1;33m=\u001b[0m \u001b[0mread\u001b[0m\u001b[1;33m(\u001b[0m\u001b[0mfilepath\u001b[0m\u001b[1;33m,\u001b[0m \u001b[0minclude_alpha\u001b[0m\u001b[1;33m=\u001b[0m\u001b[1;32mTrue\u001b[0m\u001b[1;33m)\u001b[0m\u001b[1;33m\u001b[0m\u001b[1;33m\u001b[0m\u001b[0m\n\u001b[0m\u001b[0;32m    552\u001b[0m         return cls(\n\u001b[0;32m    553\u001b[0m             \u001b[0mframe_size\u001b[0m\u001b[1;33m=\u001b[0m\u001b[0mto_frame_size\u001b[0m\u001b[1;33m(\u001b[0m\u001b[0mimg\u001b[0m\u001b[1;33m=\u001b[0m\u001b[0mimg\u001b[0m\u001b[1;33m)\u001b[0m\u001b[1;33m,\u001b[0m\u001b[1;33m\u001b[0m\u001b[1;33m\u001b[0m\u001b[0m\n",
      "\u001b[1;32m~\\Documents\\Anaconda\\envs\\byte_smart_kiosk\\lib\\site-packages\\eta\\core\\image.py\u001b[0m in \u001b[0;36mread\u001b[1;34m(path_or_url, include_alpha, flag)\u001b[0m\n\u001b[0;32m    477\u001b[0m \u001b[1;33m\u001b[0m\u001b[0m\n\u001b[0;32m    478\u001b[0m     \u001b[0mflag\u001b[0m \u001b[1;33m=\u001b[0m \u001b[0m_get_opencv_imread_flag\u001b[0m\u001b[1;33m(\u001b[0m\u001b[0mflag\u001b[0m\u001b[1;33m,\u001b[0m \u001b[0minclude_alpha\u001b[0m\u001b[1;33m)\u001b[0m\u001b[1;33m\u001b[0m\u001b[1;33m\u001b[0m\u001b[0m\n\u001b[1;32m--> 479\u001b[1;33m     \u001b[0mimg_bgr\u001b[0m \u001b[1;33m=\u001b[0m \u001b[0mcv2\u001b[0m\u001b[1;33m.\u001b[0m\u001b[0mimread\u001b[0m\u001b[1;33m(\u001b[0m\u001b[0mpath_or_url\u001b[0m\u001b[1;33m,\u001b[0m \u001b[0mflag\u001b[0m\u001b[1;33m)\u001b[0m\u001b[1;33m\u001b[0m\u001b[1;33m\u001b[0m\u001b[0m\n\u001b[0m\u001b[0;32m    480\u001b[0m     \u001b[1;32mif\u001b[0m \u001b[0mimg_bgr\u001b[0m \u001b[1;32mis\u001b[0m \u001b[1;32mNone\u001b[0m\u001b[1;33m:\u001b[0m\u001b[1;33m\u001b[0m\u001b[1;33m\u001b[0m\u001b[0m\n\u001b[0;32m    481\u001b[0m         \u001b[1;32mraise\u001b[0m \u001b[0mOSError\u001b[0m\u001b[1;33m(\u001b[0m\u001b[1;34m\"Image not found '%s'\"\u001b[0m \u001b[1;33m%\u001b[0m \u001b[0mpath_or_url\u001b[0m\u001b[1;33m)\u001b[0m\u001b[1;33m\u001b[0m\u001b[1;33m\u001b[0m\u001b[0m\n",
      "\u001b[1;31mKeyboardInterrupt\u001b[0m: "
     ]
    }
   ],
   "source": [
    "EXPORT_DIR = r'G:\\My Drive\\Food_Recognition\\Datasets\\YOLO_dataset2'\n",
    "DATASET_TYPE = fo.types.COCODetectionDataset\n",
    "filtered.export(export_dir=EXPORT_DIR, dataset_type=DATASET_TYPE)"
   ]
  },
  {
   "cell_type": "markdown",
   "metadata": {},
   "source": [
    "### Export in YOLO"
   ]
  },
  {
   "cell_type": "code",
   "execution_count": 6,
   "metadata": {},
   "outputs": [
    {
     "name": "stdout",
     "output_type": "stream",
     "text": [
      "Directory 'G:\\My Drive\\Food_Recognition\\Datasets\\YOLO_dataset\\common' already exists; export will be merged with existing files\n",
      " 100% |█████| 1110/1110 [1.9m elapsed, 0s remaining, 9.0 samples/s]       \n"
     ]
    }
   ],
   "source": [
    "EXPORT_DIR = r'G:\\My Drive\\Food_Recognition\\Datasets\\YOLO_dataset\\common'\n",
    "DATASET_TYPE = fo.types.YOLODataset\n",
    "filtered.export(export_dir=EXPORT_DIR, dataset_type=DATASET_TYPE)"
   ]
  },
  {
   "cell_type": "markdown",
   "metadata": {},
   "source": [
    "### Export TFRecords"
   ]
  },
  {
   "cell_type": "code",
   "execution_count": null,
   "metadata": {},
   "outputs": [],
   "source": [
    "EXPORT_DIR = r'G:\\My Drive\\Food_Recognition\\Datasets & Images\\export_dir'\n",
    "DATASET_TYPE = fo.types.TFObjectDetectionDataset\n",
    "filtered.export(export_dir=EXPORT_DIR, dataset_type=DATASET_TYPE)"
   ]
  },
  {
   "cell_type": "markdown",
   "metadata": {},
   "source": [
    "### Check labels and images"
   ]
  },
  {
   "cell_type": "code",
   "execution_count": 15,
   "metadata": {},
   "outputs": [],
   "source": [
    "IMG_PATH = r'G:\\My Drive\\Food_Recognition\\Datasets\\YOLO_dataset\\images\\train'\n",
    "LAB_PATH = r'G:\\My Drive\\Food_Recognition\\Datasets\\YOLO_dataset\\labels\\train'\n",
    "images = []\n",
    "labels = []"
   ]
  },
  {
   "cell_type": "code",
   "execution_count": 23,
   "metadata": {},
   "outputs": [],
   "source": [
    "for filepath in glob.glob(IMG_PATH + '\\\\*'):\n",
    "    images.append(filepath[filepath.rfind('\\\\') + 1:-4])"
   ]
  },
  {
   "cell_type": "code",
   "execution_count": 24,
   "metadata": {},
   "outputs": [],
   "source": [
    "for filepath in glob.glob(LAB_PATH + '\\\\*'):\n",
    "    labels.append(filepath[filepath.rfind('\\\\') + 1:-4])"
   ]
  },
  {
   "cell_type": "code",
   "execution_count": 30,
   "metadata": {},
   "outputs": [],
   "source": [
    "import os\n",
    "for i in images:\n",
    "    if i not in labels:\n",
    "        os.remove(IMG_PATH + '\\\\' + i + '.jpg')"
   ]
  },
  {
   "cell_type": "code",
   "execution_count": null,
   "metadata": {},
   "outputs": [],
   "source": []
  }
 ],
 "metadata": {
  "kernelspec": {
   "display_name": "Python 3",
   "language": "python",
   "name": "python3"
  },
  "language_info": {
   "codemirror_mode": {
    "name": "ipython",
    "version": 3
   },
   "file_extension": ".py",
   "mimetype": "text/x-python",
   "name": "python",
   "nbconvert_exporter": "python",
   "pygments_lexer": "ipython3",
   "version": "3.6.12"
  }
 },
 "nbformat": 4,
 "nbformat_minor": 4
}

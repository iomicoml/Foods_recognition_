{
  "nbformat": 4,
  "nbformat_minor": 0,
  "metadata": {
    "colab": {
      "name": "Train_Faster_RCNN.ipynb",
      "provenance": [],
      "collapsed_sections": [],
      "authorship_tag": "ABX9TyPGxvEq4TMs+rUPMKucMP5y",
      "include_colab_link": true
    },
    "kernelspec": {
      "name": "python3",
      "display_name": "Python 3"
    },
    "accelerator": "GPU"
  },
  "cells": [
    {
      "cell_type": "markdown",
      "metadata": {
        "id": "view-in-github",
        "colab_type": "text"
      },
      "source": [
        "<a href=\"https://colab.research.google.com/github/iomicoml/Foods_recognition_/blob/main/Train_Faster_RCNN.ipynb\" target=\"_parent\"><img src=\"https://colab.research.google.com/assets/colab-badge.svg\" alt=\"Open In Colab\"/></a>"
      ]
    },
    {
      "cell_type": "markdown",
      "metadata": {
        "id": "qmh6pAMwsPWW"
      },
      "source": [
        "# **Mount Google Drive**"
      ]
    },
    {
      "cell_type": "code",
      "metadata": {
        "colab": {
          "base_uri": "https://localhost:8080/"
        },
        "id": "spKjd0VosTk6",
        "outputId": "7986e994-58b6-4bcd-9819-8ee3a3f09bf0"
      },
      "source": [
        "from google.colab import drive\n",
        "drive.mount('/content/drive')"
      ],
      "execution_count": 1,
      "outputs": [
        {
          "output_type": "stream",
          "text": [
            "Mounted at /content/drive\n"
          ],
          "name": "stdout"
        }
      ]
    },
    {
      "cell_type": "markdown",
      "metadata": {
        "id": "w6kOQJTWvta8"
      },
      "source": [
        "### **Create labelmap.pbtxt** "
      ]
    },
    {
      "cell_type": "code",
      "metadata": {
        "id": "1bAwHaDdvseu"
      },
      "source": [
        "count_classes = 37\n",
        "\n",
        "list_of_classes = [ '31_instant_drink',\"32_instant_drink\",\"33_instant_drink\",\"34_instant_drink\",\"35_instant_drink\",\"36_instant_drink\",\"37_instant_drink\", \"38_instant_drink\",\"39_instant_drink\",\"40_instant_drink\",\n",
        "\"41_instant_drink\",\"71_drink\",\"72_drink\",\"73_drink\",\"74_drink\",\"75_drink\",\"76_drink\",\"77_drink\",\"78_drink\",\"79_alcohol\",\"80_alcohol\",\"81_drink\",\"82_drink\",\"83_drink\",\"84_drink\",\"85_drink\",\"86_drink\",\"87_drink\",\"88_alcohol\",\"89_alcohol\",\"90_alcohol\",\"91_alcohol\",\"92_alcohol\",\"93_alcohol\",\"94_alcohol\",\"95_alcohol\",\"96_alcohol\"\n",
        "]\n",
        "\n",
        "f = open(\"/content/drive/MyDrive/Food_Recognition/Code/Train/models/research/object_detection/training/labelmap.pbtxt\", \"a\")\n",
        "\n",
        "counter = 1\n",
        "\n",
        "for class_ in list_of_classes:\n",
        "  f.write(\"item {{\\n id: {}\\n name: \\'{}\\'\\n}}\\n\".format(counter, class_))\n",
        "  counter += 1\n",
        "\n",
        "f.close()"
      ],
      "execution_count": 19,
      "outputs": []
    },
    {
      "cell_type": "markdown",
      "metadata": {
        "id": "VSsxKqYpshxl"
      },
      "source": [
        "# **Import libs, set envs and train**"
      ]
    },
    {
      "cell_type": "code",
      "metadata": {
        "id": "HmXoz1uCsXHc"
      },
      "source": [
        "!pip install tensorflow_gpu==1.15\n",
        "\n",
        "!apt-get install protobuf-compiler python-pil python-lxml python-tk\n",
        "!pip install Cython tf_slim\n",
        "!pip install -q pycocotools\n",
        "!pip install -q Cython contextlib2 pillow lxml matplotlib"
      ],
      "execution_count": null,
      "outputs": []
    },
    {
      "cell_type": "code",
      "metadata": {
        "id": "RkkxQCXHsgOs"
      },
      "source": [
        "import os\n",
        "import sys\n",
        "\n"
      ],
      "execution_count": 3,
      "outputs": []
    },
    {
      "cell_type": "code",
      "metadata": {
        "id": "5xdmjNpTsrQ-"
      },
      "source": [
        "%cd /content/drive/MyDrive/Food_Recognition/Code/Train/models/research/\n",
        "%set_env PYTHONPATH=:/content/drive/MyDrive/Food_Recognition/Code/Train/models/research/slim\n",
        "os.environ['PYTHONPATH'] += \":/content/drive/MyDrive/Food_Recognition/Code/Train/models\"\n",
        "sys.path.append(\":/content/drive/MyDrive/Food_Recognition/Code/Train/models\")\n",
        "os.environ['PYTHONPATH'] += \":/content/drive/MyDrive/Food_Recognition/Code/Train/models/research/object_detection\"\n",
        "sys.path.append(\":/content/drive/MyDrive/Food_Recognition/Code/Train/models/research/object_detection\")"
      ],
      "execution_count": null,
      "outputs": []
    },
    {
      "cell_type": "code",
      "metadata": {
        "id": "631ykMy0srY9"
      },
      "source": [
        "!pip uninstall tensorflow-estimator -y\n",
        "!pip install tensorflow-estimator==1.15\n",
        "!pip install tensorflow-estimator==1.15"
      ],
      "execution_count": null,
      "outputs": []
    },
    {
      "cell_type": "code",
      "metadata": {
        "id": "lOChJyXws81Y"
      },
      "source": [
        "!python object_detection/train.py --logtostderr --train_dir=object_detection/training/ --pipeline_config_path=/content/drive/MyDrive/Food_Recognition/Code/Train/models/research/object_detection/configs/tf2/faster_rcnn_inception_v2_pets.config\n"
      ],
      "execution_count": null,
      "outputs": []
    },
    {
      "cell_type": "markdown",
      "metadata": {
        "id": "sfdFus8HtBKl"
      },
      "source": [
        "# **Export inference graph**"
      ]
    },
    {
      "cell_type": "code",
      "metadata": {
        "id": "d80QI0zHs_QP"
      },
      "source": [
        "!python object_detection/export_inference_graph.py --input_type image_tensor --pipeline_config_path /content/drive/MyDrive/Food_Recognition/Code/Train/models/research/object_detection/configs/tf2/faster_rcnn_inception_v2_pets.config --trained_checkpoint_prefix  object_detection/training/model.ckpt-15637 --output_directory object_detection/inference_graph\n"
      ],
      "execution_count": null,
      "outputs": []
    }
  ]
}
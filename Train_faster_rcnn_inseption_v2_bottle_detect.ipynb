{
  "nbformat": 4,
  "nbformat_minor": 0,
  "metadata": {
    "colab": {
      "name": "Train_faster_rcnn_inseption_v2_bottle_detect.ipynb",
      "provenance": [],
      "collapsed_sections": [],
      "authorship_tag": "ABX9TyPRTaPjk3FQ+sBEDYr3RmkK",
      "include_colab_link": true
    },
    "kernelspec": {
      "name": "python3",
      "display_name": "Python 3"
    },
    "accelerator": "GPU"
  },
  "cells": [
    {
      "cell_type": "markdown",
      "metadata": {
        "id": "view-in-github",
        "colab_type": "text"
      },
      "source": [
        "<a href=\"https://colab.research.google.com/github/iomicoml/Foods_recognition_/blob/main/Train_faster_rcnn_inseption_v2_bottle_detect.ipynb\" target=\"_parent\"><img src=\"https://colab.research.google.com/assets/colab-badge.svg\" alt=\"Open In Colab\"/></a>"
      ]
    },
    {
      "cell_type": "code",
      "metadata": {
        "id": "QydUKpDEKGze"
      },
      "source": [
        "!pip install tensorflow_gpu==1.15\n",
        "\n",
        "!apt-get install protobuf-compiler python-pil python-lxml python-tk\n",
        "!pip install Cython tf_slim\n",
        "!pip install -q pycocotools\n",
        "!pip install -q Cython contextlib2 pillow lxml matplotlib"
      ],
      "execution_count": null,
      "outputs": []
    },
    {
      "cell_type": "code",
      "metadata": {
        "id": "T3VDAqjgKq7c",
        "outputId": "6852789f-123e-4bcb-b8dc-36d18a6903f3",
        "colab": {
          "base_uri": "https://localhost:8080/"
        }
      },
      "source": [
        "import os\n",
        "import sys\n",
        "\n",
        "from google.colab import drive\n",
        "drive.mount('/content/drive')\n"
      ],
      "execution_count": 1,
      "outputs": [
        {
          "output_type": "stream",
          "text": [
            "Mounted at /content/drive\n"
          ],
          "name": "stdout"
        }
      ]
    },
    {
      "cell_type": "code",
      "metadata": {
        "id": "54IbjSXRLAra",
        "outputId": "97797562-5f17-4f75-b766-5e37c6147216",
        "colab": {
          "base_uri": "https://localhost:8080/"
        }
      },
      "source": [
        "# os.environ['PYTHONPATH'] += \":/content/drive/My Drive/Food_recognition/Train/models/research/slim\"\n",
        "# os.environ['PYTHONPATH'] += \":/content/drive/My Drive/Food_recognition/Train/models\"\n",
        "# os.environ['PYTHONPATH'] += \":/content/drive/My Drive/Food_recognition/Train/models/research\"\n",
        "\n",
        "sys.path.append(\":/content/drive/My Drive/Food_recognition/Train/models/research/slim\")\n",
        "sys.path.append(\":/content/drive/My Drive/Food_recognition/Train/models\")\n",
        "sys.path.append(\":/content/drive/My Drive/Food_recognition/Train/models/research\")\n",
        "sys.path.append(\":/content/drive/My Drive/Food_Recognition/Train/models/research/object_detection\")\n",
        "\n",
        "\n",
        "%cd /content/drive/My Drive/Food_recognition/Train/models/research/\n",
        "\n",
        "%set_env PYTHONPATH=:/content/drive/My Drive/Food_recognition/Train/models/research/slim\n",
        "os.environ['PYTHONPATH'] += \":/content/drive/My Drive/Food_Recognition/Train/models/research/object_detection\""
      ],
      "execution_count": 8,
      "outputs": [
        {
          "output_type": "stream",
          "text": [
            "/content/drive/My Drive/Food_recognition/Train/models/research\n",
            "env: PYTHONPATH=:/content/drive/My Drive/Food_recognition/Train/models/research/slim\n"
          ],
          "name": "stdout"
        }
      ]
    },
    {
      "cell_type": "code",
      "metadata": {
        "id": "FBFKOhaqL-Zz",
        "outputId": "8db116c4-6618-430f-858c-81286af70412",
        "colab": {
          "base_uri": "https://localhost:8080/"
        }
      },
      "source": [
        "!pip uninstall tensorflow-estimator -y\n",
        "!pip install tensorflow-estimator==1.15"
      ],
      "execution_count": 9,
      "outputs": [
        {
          "output_type": "stream",
          "text": [
            "Uninstalling tensorflow-estimator-1.15.1:\n",
            "  Successfully uninstalled tensorflow-estimator-1.15.1\n",
            "Collecting tensorflow-estimator==1.15\n",
            "  Using cached https://files.pythonhosted.org/packages/a2/06/f85612500ed82667a401715f13005ec464324f43c3812930488a86104ac2/tensorflow_estimator-1.15.0-py2.py3-none-any.whl\n",
            "\u001b[31mERROR: tensorflow 2.3.0 has requirement gast==0.3.3, but you'll have gast 0.2.2 which is incompatible.\u001b[0m\n",
            "\u001b[31mERROR: tensorflow 2.3.0 has requirement tensorboard<3,>=2.3.0, but you'll have tensorboard 1.15.0 which is incompatible.\u001b[0m\n",
            "\u001b[31mERROR: tensorflow 2.3.0 has requirement tensorflow-estimator<2.4.0,>=2.3.0, but you'll have tensorflow-estimator 1.15.0 which is incompatible.\u001b[0m\n",
            "\u001b[31mERROR: tensorflow-gpu 1.15.0 has requirement tensorflow-estimator==1.15.1, but you'll have tensorflow-estimator 1.15.0 which is incompatible.\u001b[0m\n",
            "Installing collected packages: tensorflow-estimator\n",
            "Successfully installed tensorflow-estimator-1.15.0\n"
          ],
          "name": "stdout"
        }
      ]
    },
    {
      "cell_type": "code",
      "metadata": {
        "id": "eQ_rcosXMG5L"
      },
      "source": [
        "!python object_detection/train.py --logtostderr --train_dir=object_detection/training/ --pipeline_config_path=object_detection/training/faster_rcnn_inception_v2_coco.config\n"
      ],
      "execution_count": null,
      "outputs": []
    },
    {
      "cell_type": "code",
      "metadata": {
        "id": "UW3bbCSrZ_6q"
      },
      "source": [
        "!python object_detection/export_inference_graph.py --input_type image_tensor --pipeline_config_path object_detection/training/faster_rcnn_inception_v2_coco.config --trained_checkpoint_prefix object_detection/training/model.ckpt-9306 --output_directory inference_graph\n"
      ],
      "execution_count": null,
      "outputs": []
    }
  ]
}